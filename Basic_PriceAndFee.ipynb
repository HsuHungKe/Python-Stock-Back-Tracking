{
 "cells": [
  {
   "cell_type": "code",
   "execution_count": 14,
   "metadata": {},
   "outputs": [],
   "source": [
    "# Situation 1:\n",
    "#  An account with NT$100000 1. Buy one(1000units) with price of 30 2. Prices increase by 20% and sell\n",
    "# How much left?\n",
    "\n",
    "#Note Transaction fee: 1.425 / 1000  Tax rate: 0.3%\n",
    "\n",
    "account =100000\n",
    "stock = 30\n",
    "change = 0.2\n",
    "buy_amount = 1\n",
    "sell_amount = 1\n",
    "transaction = 1.4525 / 1000\n",
    "tax = 0.003"
   ]
  },
  {
   "cell_type": "code",
   "execution_count": 15,
   "metadata": {},
   "outputs": [
    {
     "name": "stdout",
     "output_type": "stream",
     "text": [
      "Account left with 69956.425 after buy-in.\n"
     ]
    }
   ],
   "source": [
    "# Buy-in\n",
    "accountB = account - buy_amount*stock*1000 - buy_amount*stock*1000*transaction\n",
    "print('Account left with', accountB, 'after buy-in.')"
   ]
  },
  {
   "cell_type": "code",
   "execution_count": 16,
   "metadata": {},
   "outputs": [
    {
     "name": "stdout",
     "output_type": "stream",
     "text": [
      "Account left with 105796.13500000001 after selling.\n"
     ]
    }
   ],
   "source": [
    "#Sell\n",
    "accountS = accountB + sell_amount*stock*(1+change)*1000 - sell_amount*stock*(1+change)*1000*transaction - sell_amount*stock*(1+change)*1000*tax\n",
    "print('Account left with', accountS, 'after selling.')"
   ]
  },
  {
   "cell_type": "code",
   "execution_count": 18,
   "metadata": {},
   "outputs": [],
   "source": [
    "#Create a function out of it.\n",
    "transaction = 1.4525 / 1000\n",
    "tax = 0.003\n",
    "\n",
    "def account_left(account,stock,change, buy_amount, sell_amount):\n",
    "    accountB = account - 1000*stock*buy_amount- stock*1000*transaction\n",
    "    accountS = (accountB + 1000*stock*(1+change)*sell_amount\n",
    "    - sell_amount*stock*(1+change)*1000*(transaction+tax))\n",
    "    \n",
    "    print('Your account now has', accountS, 'left.')"
   ]
  },
  {
   "cell_type": "code",
   "execution_count": 21,
   "metadata": {},
   "outputs": [
    {
     "name": "stdout",
     "output_type": "stream",
     "text": [
      "Your account now has 111635.845 left.\n"
     ]
    }
   ],
   "source": [
    "account_left(100000,30,0.2,2,2)"
   ]
  }
 ],
 "metadata": {
  "kernelspec": {
   "display_name": "Python 3",
   "language": "python",
   "name": "python3"
  },
  "language_info": {
   "codemirror_mode": {
    "name": "ipython",
    "version": 3
   },
   "file_extension": ".py",
   "mimetype": "text/x-python",
   "name": "python",
   "nbconvert_exporter": "python",
   "pygments_lexer": "ipython3",
   "version": "3.8.5"
  }
 },
 "nbformat": 4,
 "nbformat_minor": 4
}
